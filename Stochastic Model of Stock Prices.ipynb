{
  "nbformat": 4,
  "nbformat_minor": 0,
  "metadata": {
    "colab": {
      "name": "WSKT Stock.ipynb",
      "provenance": [],
      "include_colab_link": true
    },
    "kernelspec": {
      "name": "python3",
      "display_name": "Python 3"
    }
  },
  "cells": [
    {
      "cell_type": "markdown",
      "metadata": {
        "id": "view-in-github",
        "colab_type": "text"
      },
      "source": [
        "<a href=\"https://colab.research.google.com/github/AFSiraj/Probstok/blob/master/Stochastic%20Model%20of%20Stock%20Prices.ipynb\" target=\"_parent\"><img src=\"https://colab.research.google.com/assets/colab-badge.svg\" alt=\"Open In Colab\"/></a>"
      ]
    },
    {
      "cell_type": "markdown",
      "metadata": {
        "id": "wQAP-5QPixLF",
        "colab_type": "text"
      },
      "source": [
        "**WSKT**"
      ]
    },
    {
      "cell_type": "markdown",
      "metadata": {
        "id": "j6qL3mf02G-o",
        "colab_type": "text"
      },
      "source": [
        "Import Library"
      ]
    },
    {
      "cell_type": "code",
      "metadata": {
        "id": "z_XWMPTo1vHj",
        "colab_type": "code",
        "colab": {}
      },
      "source": [
        "import plotly.graph_objs as go\n",
        "import plotly.tools as tools\n",
        "\n",
        "import plotly.plotly as py\n",
        "import plotly.figure_factory as FF\n",
        "\n",
        "import numpy as np\n",
        "import pandas as pd\n",
        "import scipy"
      ],
      "execution_count": 0,
      "outputs": []
    },
    {
      "cell_type": "markdown",
      "metadata": {
        "id": "QfFLCaOkr1hq",
        "colab_type": "text"
      },
      "source": [
        "Import File from Github"
      ]
    },
    {
      "cell_type": "code",
      "metadata": {
        "id": "-N-Yk0oPeeMk",
        "colab_type": "code",
        "colab": {}
      },
      "source": [
        "df1 = pd.read_csv (r'https://github.com/AFSiraj/Probstok/raw/master/Salinan%20WSKT.JK.csv') \n",
        "df2 = pd.read_csv (r'https://raw.githubusercontent.com/AFSiraj/Probstok/master/UNVR.JK.csv')\n",
        "df3 = pd.read_csv (r'https://raw.githubusercontent.com/AFSiraj/Probstok/master/INCO.JK.csv')"
      ],
      "execution_count": 0,
      "outputs": []
    },
    {
      "cell_type": "markdown",
      "metadata": {
        "id": "5rTusBQssvoe",
        "colab_type": "text"
      },
      "source": [
        "Deskripsi data\n",
        "*   df1 = WSKT\n",
        "*   df2 = UNVR\n",
        "*   df3 = INCO\n",
        "<br><br>\n",
        "Total : 484 Trading days"
      ]
    },
    {
      "cell_type": "code",
      "metadata": {
        "id": "A3KwChTgr7FS",
        "colab_type": "code",
        "colab": {}
      },
      "source": [
        "wskt = df1.dropna()\n",
        "unvr = df2.dropna()\n",
        "inco = df3.dropna()"
      ],
      "execution_count": 0,
      "outputs": []
    },
    {
      "cell_type": "code",
      "metadata": {
        "id": "-OFCdgwzvu76",
        "colab_type": "code",
        "colab": {
          "base_uri": "https://localhost:8080/",
          "height": 54
        },
        "outputId": "10e43e81-4fe7-49eb-de9f-cf1d70352ca4"
      },
      "source": [
        "print ('We have daily closing price for each company in the period of three years'\n",
        "', from 13th November 2014 until 14th November 2016, ', (len(wskt)) , \"trading days\")"
      ],
      "execution_count": 34,
      "outputs": [
        {
          "output_type": "stream",
          "text": [
            "We have daily closing price for each company in the period of three years, from 13th November 2014 until 14th November 2016,  484 trading days\n"
          ],
          "name": "stdout"
        }
      ]
    },
    {
      "cell_type": "markdown",
      "metadata": {
        "id": "jfIaZnqE4lp_",
        "colab_type": "text"
      },
      "source": [
        "**WSKT**"
      ]
    },
    {
      "cell_type": "code",
      "metadata": {
        "id": "yXAcmKMo2zKS",
        "colab_type": "code",
        "colab": {
          "base_uri": "https://localhost:8080/",
          "height": 105
        },
        "outputId": "596c1d61-a3f3-489f-a0d7-1d1b51bff0e2"
      },
      "source": [
        "wskt1 = FF.create_table(wskt[['Date', 'Adj Close']])\n",
        "\n",
        "py.iplot(wskt1, filename='wskt-data-sample')"
      ],
      "execution_count": 0,
      "outputs": [
        {
          "output_type": "stream",
          "text": [
            "/usr/local/lib/python3.6/dist-packages/plotly/tools.py:592: UserWarning:\n",
            "\n",
            "plotly.tools.FigureFactory.create_table is deprecated. Use plotly.figure_factory.create_table\n",
            "\n"
          ],
          "name": "stderr"
        }
      ]
    },
    {
      "cell_type": "markdown",
      "metadata": {
        "id": "aSR_SSrS4n4D",
        "colab_type": "text"
      },
      "source": [
        "**UNVR**"
      ]
    },
    {
      "cell_type": "code",
      "metadata": {
        "id": "HpJoIOz04qC-",
        "colab_type": "code",
        "colab": {
          "base_uri": "https://localhost:8080/",
          "height": 255
        },
        "outputId": "bb12382a-e80e-4b62-8a59-42d5f7467165"
      },
      "source": [
        "unvr1 = unvr[['Date', 'Adj Close']]\n",
        "print(unvr1)"
      ],
      "execution_count": 38,
      "outputs": [
        {
          "output_type": "stream",
          "text": [
            "           Date  Adj Close\n",
            "0    11/13/2014   27570.74\n",
            "1    11/14/2014   27390.83\n",
            "2    11/17/2014   27930.55\n",
            "3    11/18/2014   28425.29\n",
            "4    11/19/2014   27975.53\n",
            "..          ...        ...\n",
            "486   11/8/2016   41549.70\n",
            "487   11/9/2016   41549.70\n",
            "488  11/10/2016   40917.68\n",
            "489  11/11/2016   38389.59\n",
            "490  11/14/2016   38389.59\n",
            "\n",
            "[484 rows x 2 columns]\n"
          ],
          "name": "stdout"
        }
      ]
    },
    {
      "cell_type": "markdown",
      "metadata": {
        "id": "un5o_RnW4u22",
        "colab_type": "text"
      },
      "source": [
        "**INCO**"
      ]
    },
    {
      "cell_type": "code",
      "metadata": {
        "id": "DWz2YANx4xvR",
        "colab_type": "code",
        "colab": {
          "base_uri": "https://localhost:8080/",
          "height": 255
        },
        "outputId": "b51ad68d-354a-4b7b-be15-b73b6adca10b"
      },
      "source": [
        "inco1 = inco[['Date', 'Adj Close']]\n",
        "print(inco1)"
      ],
      "execution_count": 42,
      "outputs": [
        {
          "output_type": "stream",
          "text": [
            "           Date    Adj Close\n",
            "0    2014-11-13  3740.073730\n",
            "1    2014-11-14  3730.384521\n",
            "2    2014-11-17  3764.297119\n",
            "3    2014-11-18  3793.364990\n",
            "4    2014-11-19  3807.898926\n",
            "..          ...          ...\n",
            "486  2016-11-08  3000.000000\n",
            "487  2016-11-09  3020.000000\n",
            "488  2016-11-10  3300.000000\n",
            "489  2016-11-11  3500.000000\n",
            "490  2016-11-14  3300.000000\n",
            "\n",
            "[484 rows x 2 columns]\n"
          ],
          "name": "stdout"
        }
      ]
    },
    {
      "cell_type": "markdown",
      "metadata": {
        "id": "DCUx0CRLxZ3A",
        "colab_type": "text"
      },
      "source": [
        "**Shares value development**"
      ]
    },
    {
      "cell_type": "code",
      "metadata": {
        "id": "PQ5lJX73w7VR",
        "colab_type": "code",
        "colab": {}
      },
      "source": [
        "\n",
        "wskt_ss=[]\n",
        "for i in range(1, len(wskt)):\n",
        "  wskt3.append(wskt[i]/wskt[i-1])\n",
        "  print('%.2f' % wskt3[i+1])\n"
      ],
      "execution_count": 0,
      "outputs": []
    },
    {
      "cell_type": "code",
      "metadata": {
        "id": "VhZrn7XqyV5g",
        "colab_type": "code",
        "colab": {}
      },
      "source": [
        ""
      ],
      "execution_count": 0,
      "outputs": []
    }
  ]
}