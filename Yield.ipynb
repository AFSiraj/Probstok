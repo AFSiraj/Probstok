{
  "nbformat": 4,
  "nbformat_minor": 0,
  "metadata": {
    "colab": {
      "name": "WSKT Stock.ipynb",
      "provenance": [],
      "collapsed_sections": [],
      "include_colab_link": true
    },
    "kernelspec": {
      "name": "python3",
      "display_name": "Python 3"
    }
  },
  "cells": [
    {
      "cell_type": "markdown",
      "metadata": {
        "id": "view-in-github",
        "colab_type": "text"
      },
      "source": [
        "<a href=\"https://colab.research.google.com/github/AFSiraj/Probstok/blob/master/Yield.ipynb\" target=\"_parent\"><img src=\"https://colab.research.google.com/assets/colab-badge.svg\" alt=\"Open In Colab\"/></a>"
      ]
    },
    {
      "cell_type": "markdown",
      "metadata": {
        "id": "wQAP-5QPixLF",
        "colab_type": "text"
      },
      "source": [
        "**WSKT**"
      ]
    },
    {
      "cell_type": "markdown",
      "metadata": {
        "id": "j6qL3mf02G-o",
        "colab_type": "text"
      },
      "source": [
        "Import Library"
      ]
    },
    {
      "cell_type": "code",
      "metadata": {
        "id": "z_XWMPTo1vHj",
        "colab_type": "code",
        "colab": {}
      },
      "source": [
        "import plotly.graph_objs as go\n",
        "import plotly.tools as tools\n",
        "\n",
        "import plotly.plotly as py\n",
        "import plotly.figure_factory as FF\n",
        "\n",
        "import numpy as np\n",
        "import pandas as pd\n",
        "import scipy"
      ],
      "execution_count": 0,
      "outputs": []
    },
    {
      "cell_type": "code",
      "metadata": {
        "id": "bwDc0-ta7-GL",
        "colab_type": "code",
        "colab": {}
      },
      "source": [
        "import plotly\n",
        "plotly.tools.set_credentials_file(username='gnymous', api_key='QrALS34yqRak9iDApGlc')"
      ],
      "execution_count": 0,
      "outputs": []
    },
    {
      "cell_type": "markdown",
      "metadata": {
        "id": "QfFLCaOkr1hq",
        "colab_type": "text"
      },
      "source": [
        "Import File from Github"
      ]
    },
    {
      "cell_type": "code",
      "metadata": {
        "id": "-N-Yk0oPeeMk",
        "colab_type": "code",
        "colab": {}
      },
      "source": [
        "df1 = pd.read_csv (r'https://github.com/AFSiraj/Probstok/raw/master/Salinan%20WSKT.JK.csv') \n",
        "df2 = pd.read_csv (r'https://raw.githubusercontent.com/AFSiraj/Probstok/master/UNVR.JK.csv')\n",
        "df3 = pd.read_csv (r'https://raw.githubusercontent.com/AFSiraj/Probstok/master/INCO.JK.csv')"
      ],
      "execution_count": 0,
      "outputs": []
    },
    {
      "cell_type": "markdown",
      "metadata": {
        "id": "5rTusBQssvoe",
        "colab_type": "text"
      },
      "source": [
        "Deskripsi data\n",
        "*   df1 = WSKT\n",
        "*   df2 = UNVR\n",
        "*   df3 = INCO\n",
        "<br><br>\n",
        "Total : 484 Trading days"
      ]
    },
    {
      "cell_type": "code",
      "metadata": {
        "id": "A3KwChTgr7FS",
        "colab_type": "code",
        "colab": {}
      },
      "source": [
        "wskt = df1.dropna()\n",
        "unvr = df2.dropna()\n",
        "inco = df3.dropna()"
      ],
      "execution_count": 0,
      "outputs": []
    },
    {
      "cell_type": "code",
      "metadata": {
        "id": "-OFCdgwzvu76",
        "colab_type": "code",
        "outputId": "ed0fef52-8292-4511-e544-6be97073f9f1",
        "colab": {
          "base_uri": "https://localhost:8080/",
          "height": 54
        }
      },
      "source": [
        "print ('We have daily closing price for each company in the period of three years'\n",
        "', from 13th November 2014 until 14th November 2016, ', (len(wskt)) , \"trading days\")"
      ],
      "execution_count": 7,
      "outputs": [
        {
          "output_type": "stream",
          "text": [
            "We have daily closing price for each company in the period of three years, from 13th November 2014 until 14th November 2016,  484 trading days\n"
          ],
          "name": "stdout"
        }
      ]
    },
    {
      "cell_type": "markdown",
      "metadata": {
        "id": "jfIaZnqE4lp_",
        "colab_type": "text"
      },
      "source": [
        "**WSKT**"
      ]
    },
    {
      "cell_type": "code",
      "metadata": {
        "id": "yXAcmKMo2zKS",
        "colab_type": "code",
        "outputId": "3f547178-7064-4399-df03-ba86fb6d68c1",
        "colab": {
          "base_uri": "https://localhost:8080/",
          "height": 1000
        }
      },
      "source": [
        "table1 = wskt[['Date', 'Adj Close']]\n",
        "wskt1 = FF.create_table(table1)\n",
        "\n",
        "py.iplot(wskt1, filename='wskt-data-sample')"
      ],
      "execution_count": 10,
      "outputs": [
        {
          "output_type": "stream",
          "text": [
            "High five! You successfully sent some data to your account on plotly. View your plot in your browser at https://plot.ly/~gnymous/0 or inside your plot.ly account where it is named 'wskt-data-sample'\n"
          ],
          "name": "stdout"
        },
        {
          "output_type": "execute_result",
          "data": {
            "text/html": [
              "<iframe id=\"igraph\" scrolling=\"no\" style=\"border:none;\" seamless=\"seamless\" src=\"https://plot.ly/~gnymous/0.embed\" height=\"14600px\" width=\"100%\"></iframe>"
            ],
            "text/plain": [
              "<chart_studio.tools.PlotlyDisplay object>"
            ]
          },
          "metadata": {
            "tags": []
          },
          "execution_count": 10
        }
      ]
    },
    {
      "cell_type": "markdown",
      "metadata": {
        "id": "aSR_SSrS4n4D",
        "colab_type": "text"
      },
      "source": [
        "**UNVR**"
      ]
    },
    {
      "cell_type": "code",
      "metadata": {
        "id": "HpJoIOz04qC-",
        "colab_type": "code",
        "outputId": "43060b43-4cc6-4733-a149-b3f06f1d22d5",
        "colab": {
          "base_uri": "https://localhost:8080/",
          "height": 221
        }
      },
      "source": [
        "unvr1 = unvr[['Date', 'Adj Close']]\n",
        "print(unvr1)"
      ],
      "execution_count": 32,
      "outputs": [
        {
          "output_type": "stream",
          "text": [
            "0      27570.74\n",
            "1      27390.83\n",
            "2      27930.55\n",
            "3      28425.29\n",
            "4      27975.53\n",
            "         ...   \n",
            "486    41549.70\n",
            "487    41549.70\n",
            "488    40917.68\n",
            "489    38389.59\n",
            "490    38389.59\n",
            "Name: Adj Close, Length: 484, dtype: float64\n"
          ],
          "name": "stdout"
        }
      ]
    },
    {
      "cell_type": "code",
      "metadata": {
        "id": "y7xsNBMB84Uq",
        "colab_type": "code",
        "colab": {
          "base_uri": "https://localhost:8080/",
          "height": 1000
        },
        "outputId": "a8ffeac7-f176-4a49-fd6f-357ce08192ca"
      },
      "source": [
        "table2 = unvr[['Date', 'Adj Close']]\n",
        "unvr1 = FF.create_table(table2)\n",
        "\n",
        "py.iplot(unvr1, filename='unvr-data-sample')"
      ],
      "execution_count": 14,
      "outputs": [
        {
          "output_type": "execute_result",
          "data": {
            "text/html": [
              "<iframe id=\"igraph\" scrolling=\"no\" style=\"border:none;\" seamless=\"seamless\" src=\"https://plot.ly/~gnymous/2.embed\" height=\"14600px\" width=\"100%\"></iframe>"
            ],
            "text/plain": [
              "<chart_studio.tools.PlotlyDisplay object>"
            ]
          },
          "metadata": {
            "tags": []
          },
          "execution_count": 14
        }
      ]
    },
    {
      "cell_type": "markdown",
      "metadata": {
        "id": "un5o_RnW4u22",
        "colab_type": "text"
      },
      "source": [
        "**INCO**"
      ]
    },
    {
      "cell_type": "code",
      "metadata": {
        "id": "DWz2YANx4xvR",
        "colab_type": "code",
        "outputId": "b51ad68d-354a-4b7b-be15-b73b6adca10b",
        "colab": {
          "base_uri": "https://localhost:8080/",
          "height": 255
        }
      },
      "source": [
        "inco1 = inco[['Date', 'Adj Close']]\n",
        "print(inco1)"
      ],
      "execution_count": 0,
      "outputs": [
        {
          "output_type": "stream",
          "text": [
            "           Date    Adj Close\n",
            "0    2014-11-13  3740.073730\n",
            "1    2014-11-14  3730.384521\n",
            "2    2014-11-17  3764.297119\n",
            "3    2014-11-18  3793.364990\n",
            "4    2014-11-19  3807.898926\n",
            "..          ...          ...\n",
            "486  2016-11-08  3000.000000\n",
            "487  2016-11-09  3020.000000\n",
            "488  2016-11-10  3300.000000\n",
            "489  2016-11-11  3500.000000\n",
            "490  2016-11-14  3300.000000\n",
            "\n",
            "[484 rows x 2 columns]\n"
          ],
          "name": "stdout"
        }
      ]
    },
    {
      "cell_type": "code",
      "metadata": {
        "id": "XRUvSsTL9JE9",
        "colab_type": "code",
        "colab": {}
      },
      "source": [
        "table3 = inco[['Date', 'Adj Close']]\n",
        "inco1 = FF.create_table(table3)\n",
        "\n",
        "py.iplot(inco1, filename='inco-data-sample')"
      ],
      "execution_count": 0,
      "outputs": []
    },
    {
      "cell_type": "markdown",
      "metadata": {
        "id": "DCUx0CRLxZ3A",
        "colab_type": "text"
      },
      "source": [
        "**Shares value development**"
      ]
    },
    {
      "cell_type": "markdown",
      "metadata": {
        "id": "LKBt5vodKQcV",
        "colab_type": "text"
      },
      "source": [
        "WSKT"
      ]
    },
    {
      "cell_type": "code",
      "metadata": {
        "id": "PQ5lJX73w7VR",
        "colab_type": "code",
        "colab": {
          "base_uri": "https://localhost:8080/",
          "height": 1000
        },
        "outputId": "0b22bd9e-fe04-4a51-c718-57ef03ef90d3"
      },
      "source": [
        "wskt_ac = wskt['Adj Close']\n",
        "wskt_Y= list(range(0,len(wskt)))\n",
        "wskt_Y[0] = ''\n",
        "for i in range(0, len(wskt)):\n",
        "  if i == 1:\n",
        "    wskt_Y[i] = wskt_ac[i]/wskt_ac[i-1]\n",
        "    print('Yt[%d] = %.2f' % (i, wskt_Y[i]))\n",
        "  elif i>1:  \n",
        "    if wskt_ac[i-2]<=wskt_ac[i-1]<=wskt_ac[i] or wskt_ac[i-2]>=wskt_ac[i-1]>=wskt_ac[i]:\n",
        "        wskt_Y[i] = wskt_Y[i-1] * wskt_ac[i] / wskt_ac[i-1]\n",
        "        print('Yt[%d] = %.2f' %(i, wskt_Y[i]))\n",
        "    else:\n",
        "        wskt_Y[i] = wskt_ac[i]/wskt_ac[i-1]\n",
        "        print('Yt[%d] = %.2f' %(i, wskt_Y[i]))\n",
        "  else:   \n",
        "    print('Yt[0] is starting point')"
      ],
      "execution_count": 61,
      "outputs": [
        {
          "output_type": "stream",
          "text": [
            "Yt[0] is starting point\n",
            "Yt[1] = 1.00\n",
            "Yt[2] = 1.03\n",
            "Yt[3] = 1.05\n",
            "Yt[4] = 0.99\n",
            "Yt[5] = 0.99\n",
            "Yt[6] = 1.00\n",
            "Yt[7] = 1.02\n",
            "Yt[8] = 0.99\n",
            "Yt[9] = 1.01\n",
            "Yt[10] = 1.00\n",
            "Yt[11] = 1.00\n",
            "Yt[12] = 1.06\n",
            "Yt[13] = 1.12\n",
            "Yt[14] = 1.12\n",
            "Yt[15] = 1.12\n",
            "Yt[16] = 1.11\n",
            "Yt[17] = 1.07\n",
            "Yt[18] = 1.02\n",
            "Yt[19] = 1.08\n",
            "Yt[20] = 1.09\n",
            "Yt[21] = 1.10\n",
            "Yt[22] = 1.10\n",
            "Yt[23] = 0.97\n",
            "Yt[24] = 1.03\n",
            "Yt[25] = 1.07\n",
            "Yt[26] = 1.11\n",
            "Yt[27] = 1.14\n",
            "Yt[28] = 1.17\n",
            "Yt[29] = 1.24\n",
            "Yt[30] = 1.27\n",
            "Yt[31] = 0.97\n",
            "Yt[32] = 0.97\n",
            "Yt[33] = 0.93\n",
            "Yt[34] = 0.92\n",
            "Yt[35] = 1.04\n",
            "Yt[36] = 1.04\n",
            "Yt[37] = 0.98\n",
            "Yt[38] = 0.98\n",
            "Yt[39] = 1.00\n",
            "Yt[40] = 0.99\n",
            "Yt[41] = 1.04\n",
            "Yt[42] = 0.98\n",
            "Yt[43] = 1.01\n",
            "Yt[44] = 1.04\n",
            "Yt[45] = 1.05\n",
            "Yt[46] = 1.08\n",
            "Yt[47] = 1.10\n",
            "Yt[48] = 0.99\n",
            "Yt[49] = 1.04\n",
            "Yt[50] = 1.04\n",
            "Yt[51] = 1.06\n",
            "Yt[52] = 1.09\n",
            "Yt[53] = 1.13\n",
            "Yt[54] = 1.17\n",
            "Yt[55] = 0.97\n",
            "Yt[56] = 1.01\n",
            "Yt[57] = 1.01\n",
            "Yt[58] = 1.00\n",
            "Yt[59] = 0.99\n",
            "Yt[60] = 1.02\n",
            "Yt[61] = 0.99\n",
            "Yt[62] = 1.01\n",
            "Yt[63] = 0.99\n",
            "Yt[64] = 0.99\n",
            "Yt[65] = 0.99\n",
            "Yt[66] = 1.01\n",
            "Yt[67] = 1.00\n",
            "Yt[68] = 0.99\n",
            "Yt[69] = 1.00\n",
            "Yt[70] = 1.01\n",
            "Yt[71] = 1.00\n",
            "Yt[72] = 0.99\n",
            "Yt[73] = 0.99\n",
            "Yt[74] = 0.99\n",
            "Yt[75] = 0.99\n",
            "Yt[76] = 0.98\n",
            "Yt[77] = 0.94\n",
            "Yt[78] = 0.94\n",
            "Yt[79] = 0.90\n",
            "Yt[80] = 1.03\n",
            "Yt[81] = 0.98\n",
            "Yt[82] = 1.01\n",
            "Yt[83] = 1.01\n",
            "Yt[84] = 1.03\n",
            "Yt[85] = 1.05\n",
            "Yt[86] = 1.07\n",
            "Yt[87] = 0.99\n",
            "Yt[88] = 0.99\n",
            "Yt[89] = 0.97\n",
            "Yt[90] = 0.95\n",
            "Yt[91] = 1.02\n",
            "Yt[92] = 1.04\n",
            "Yt[93] = 1.05\n",
            "Yt[94] = 1.06\n",
            "Yt[95] = 0.95\n",
            "Yt[96] = 0.94\n",
            "Yt[97] = 1.02\n",
            "Yt[98] = 0.99\n",
            "Yt[99] = 0.98\n",
            "Yt[100] = 1.01\n",
            "Yt[101] = 1.01\n",
            "Yt[102] = 1.03\n",
            "Yt[103] = 1.04\n",
            "Yt[104] = 1.05\n",
            "Yt[105] = 1.06\n",
            "Yt[106] = 1.00\n",
            "Yt[107] = 1.01\n",
            "Yt[108] = 0.99\n",
            "Yt[109] = 1.00\n",
            "Yt[110] = 1.00\n",
            "Yt[111] = 0.96\n",
            "Yt[112] = 0.96\n",
            "Yt[113] = 0.96\n",
            "Yt[114] = 0.96\n",
            "Yt[115] = 0.92\n",
            "Yt[116] = 1.03\n",
            "Yt[117] = 1.08\n",
            "Yt[118] = 1.08\n",
            "Yt[119] = 1.06\n",
            "Yt[120] = 1.06\n",
            "Yt[121] = 1.01\n",
            "Yt[122] = 1.01\n",
            "Yt[123] = 1.01\n",
            "Yt[124] = 1.01\n",
            "Yt[125] = 1.01\n",
            "Yt[126] = 1.01\n",
            "Yt[127] = 1.00\n",
            "Yt[128] = 1.02\n",
            "Yt[129] = 1.02\n",
            "Yt[130] = 1.00\n",
            "Yt[131] = 1.00\n",
            "Yt[132] = 1.00\n",
            "Yt[133] = 0.98\n",
            "Yt[134] = 1.03\n",
            "Yt[135] = 0.96\n",
            "Yt[136] = 1.01\n",
            "Yt[137] = 1.01\n",
            "Yt[138] = 1.01\n",
            "Yt[139] = 0.97\n",
            "Yt[140] = 1.02\n",
            "Yt[141] = 0.99\n",
            "Yt[142] = 0.98\n",
            "Yt[143] = 0.94\n",
            "Yt[144] = 1.01\n",
            "Yt[145] = 1.02\n",
            "Yt[146] = 1.03\n",
            "Yt[147] = 1.04\n",
            "Yt[148] = 0.99\n",
            "Yt[149] = 1.05\n",
            "Yt[150] = 0.98\n",
            "Yt[151] = 0.95\n",
            "Yt[152] = 0.95\n",
            "Yt[153] = 0.92\n",
            "Yt[154] = 0.92\n",
            "Yt[155] = 1.03\n",
            "Yt[156] = 1.09\n",
            "Yt[157] = 1.10\n",
            "Yt[158] = 0.97\n",
            "Yt[159] = 1.06\n",
            "Yt[160] = 1.10\n",
            "Yt[161] = 1.00\n",
            "Yt[162] = 1.02\n",
            "Yt[163] = 1.05\n",
            "Yt[164] = 0.98\n",
            "Yt[165] = 0.98\n",
            "Yt[166] = 1.03\n",
            "Yt[167] = 0.99\n",
            "Yt[168] = 0.97\n",
            "Yt[169] = 0.95\n",
            "Yt[170] = 0.93\n",
            "Yt[171] = 0.89\n",
            "Yt[172] = 1.03\n",
            "Yt[173] = 1.06\n",
            "Yt[174] = 1.07\n",
            "Yt[175] = 0.99\n",
            "Yt[176] = 1.02\n",
            "Yt[177] = 1.02\n",
            "Yt[178] = 1.02\n",
            "Yt[179] = 1.00\n",
            "Yt[180] = 0.98\n",
            "Yt[181] = 0.93\n",
            "Yt[182] = 1.05\n",
            "Yt[183] = 1.06\n",
            "Yt[184] = 0.98\n",
            "Yt[185] = 0.97\n",
            "Yt[186] = 0.97\n",
            "Yt[187] = 0.95\n",
            "Yt[188] = 0.89\n",
            "Yt[189] = 0.87\n",
            "Yt[190] = 1.02\n",
            "Yt[191] = 1.05\n",
            "Yt[192] = 0.97\n",
            "Yt[193] = 1.01\n",
            "Yt[194] = 0.98\n",
            "Yt[195] = 1.01\n",
            "Yt[196] = 1.04\n",
            "Yt[197] = 0.97\n",
            "Yt[198] = 1.00\n",
            "Yt[199] = 1.02\n",
            "Yt[200] = 1.05\n",
            "Yt[201] = 0.98\n",
            "Yt[202] = 0.97\n",
            "Yt[203] = 0.97\n",
            "Yt[204] = 0.96\n",
            "Yt[205] = 0.95\n",
            "Yt[206] = 1.02\n",
            "Yt[207] = 0.99\n",
            "Yt[208] = 0.98\n",
            "Yt[209] = 1.00\n",
            "Yt[210] = 1.00\n",
            "Yt[211] = 1.02\n",
            "Yt[212] = 0.98\n",
            "Yt[213] = 1.01\n",
            "Yt[214] = 0.97\n",
            "Yt[215] = 1.04\n",
            "Yt[216] = 0.99\n",
            "Yt[217] = 1.03\n",
            "Yt[218] = 0.99\n",
            "Yt[219] = 1.00\n",
            "Yt[220] = 0.99\n",
            "Yt[221] = 1.01\n",
            "Yt[222] = 1.00\n",
            "Yt[223] = 0.99\n",
            "Yt[224] = 0.99\n",
            "Yt[225] = 0.98\n",
            "Yt[226] = 1.02\n",
            "Yt[227] = 1.04\n",
            "Yt[228] = 1.00\n",
            "Yt[229] = 0.99\n",
            "Yt[230] = 1.06\n",
            "Yt[231] = 1.00\n",
            "Yt[232] = 0.99\n",
            "Yt[233] = 0.98\n",
            "Yt[234] = 0.94\n",
            "Yt[235] = 1.00\n",
            "Yt[236] = 1.04\n",
            "Yt[237] = 1.07\n",
            "Yt[238] = 0.99\n",
            "Yt[239] = 0.97\n",
            "Yt[240] = 1.01\n",
            "Yt[241] = 0.98\n",
            "Yt[242] = 1.02\n",
            "Yt[243] = 1.00\n",
            "Yt[244] = 1.01\n",
            "Yt[245] = 0.99\n",
            "Yt[246] = 0.98\n",
            "Yt[247] = 1.01\n",
            "Yt[248] = 0.99\n",
            "Yt[249] = 1.01\n",
            "Yt[250] = 1.04\n",
            "Yt[251] = 0.99\n",
            "Yt[252] = 0.99\n",
            "Yt[253] = 1.00\n",
            "Yt[254] = 1.00\n",
            "Yt[255] = 0.98\n",
            "Yt[256] = 0.93\n",
            "Yt[257] = 1.04\n",
            "Yt[258] = 1.05\n",
            "Yt[259] = 0.99\n",
            "Yt[260] = 0.98\n",
            "Yt[261] = 1.00\n",
            "Yt[262] = 0.99\n",
            "Yt[263] = 0.99\n",
            "Yt[264] = 0.99\n",
            "Yt[265] = 0.99\n",
            "Yt[266] = 1.00\n",
            "Yt[267] = 1.00\n",
            "Yt[268] = 1.00\n",
            "Yt[269] = 1.02\n",
            "Yt[270] = 0.98\n",
            "Yt[271] = 0.98\n",
            "Yt[272] = 1.00\n",
            "Yt[273] = 0.99\n",
            "Yt[274] = 1.01\n",
            "Yt[275] = 1.01\n",
            "Yt[276] = 1.03\n",
            "Yt[277] = 0.97\n",
            "Yt[278] = 1.02\n",
            "Yt[279] = 1.04\n",
            "Yt[280] = 1.05\n",
            "Yt[281] = 1.05\n",
            "Yt[282] = 0.99\n",
            "Yt[283] = 1.01\n",
            "Yt[284] = 1.04\n",
            "Yt[285] = 0.99\n",
            "Yt[286] = 0.97\n",
            "Yt[287] = 0.97\n",
            "Yt[288] = 1.00\n",
            "Yt[289] = 0.97\n",
            "Yt[290] = 1.00\n",
            "Yt[291] = 1.01\n",
            "Yt[292] = 1.01\n",
            "Yt[293] = 1.02\n",
            "Yt[294] = 1.02\n",
            "Yt[295] = 0.99\n",
            "Yt[296] = 0.99\n",
            "Yt[297] = 0.99\n",
            "Yt[298] = 1.03\n",
            "Yt[299] = 1.00\n",
            "Yt[300] = 1.01\n",
            "Yt[301] = 1.00\n",
            "Yt[302] = 0.99\n",
            "Yt[303] = 1.05\n",
            "Yt[304] = 1.08\n",
            "Yt[305] = 1.08\n",
            "Yt[306] = 1.11\n",
            "Yt[307] = 0.98\n",
            "Yt[308] = 1.01\n",
            "Yt[309] = 1.01\n",
            "Yt[310] = 0.99\n",
            "Yt[311] = 1.00\n",
            "Yt[312] = 0.98\n",
            "Yt[313] = 1.03\n",
            "Yt[314] = 0.98\n",
            "Yt[315] = 1.01\n",
            "Yt[316] = 0.99\n",
            "Yt[317] = 0.99\n",
            "Yt[318] = 0.99\n",
            "Yt[319] = 0.98\n",
            "Yt[320] = 0.98\n",
            "Yt[321] = 1.00\n",
            "Yt[322] = 0.99\n",
            "Yt[323] = 1.02\n"
          ],
          "name": "stdout"
        },
        {
          "output_type": "error",
          "ename": "KeyError",
          "evalue": "ignored",
          "traceback": [
            "\u001b[0;31m---------------------------------------------------------------------------\u001b[0m",
            "\u001b[0;31mKeyError\u001b[0m                                  Traceback (most recent call last)",
            "\u001b[0;32m<ipython-input-61-7d0072ea7033>\u001b[0m in \u001b[0;36m<module>\u001b[0;34m()\u001b[0m\n\u001b[1;32m      7\u001b[0m     \u001b[0mprint\u001b[0m\u001b[0;34m(\u001b[0m\u001b[0;34m'Yt[%d] = %.2f'\u001b[0m \u001b[0;34m%\u001b[0m \u001b[0;34m(\u001b[0m\u001b[0mi\u001b[0m\u001b[0;34m,\u001b[0m \u001b[0mwskt_Y\u001b[0m\u001b[0;34m[\u001b[0m\u001b[0mi\u001b[0m\u001b[0;34m]\u001b[0m\u001b[0;34m)\u001b[0m\u001b[0;34m)\u001b[0m\u001b[0;34m\u001b[0m\u001b[0;34m\u001b[0m\u001b[0m\n\u001b[1;32m      8\u001b[0m   \u001b[0;32melif\u001b[0m \u001b[0mi\u001b[0m\u001b[0;34m>\u001b[0m\u001b[0;36m1\u001b[0m\u001b[0;34m:\u001b[0m\u001b[0;34m\u001b[0m\u001b[0;34m\u001b[0m\u001b[0m\n\u001b[0;32m----> 9\u001b[0;31m     \u001b[0;32mif\u001b[0m \u001b[0mwskt_ac\u001b[0m\u001b[0;34m[\u001b[0m\u001b[0mi\u001b[0m\u001b[0;34m-\u001b[0m\u001b[0;36m2\u001b[0m\u001b[0;34m]\u001b[0m\u001b[0;34m<=\u001b[0m\u001b[0mwskt_ac\u001b[0m\u001b[0;34m[\u001b[0m\u001b[0mi\u001b[0m\u001b[0;34m-\u001b[0m\u001b[0;36m1\u001b[0m\u001b[0;34m]\u001b[0m\u001b[0;34m<=\u001b[0m\u001b[0mwskt_ac\u001b[0m\u001b[0;34m[\u001b[0m\u001b[0mi\u001b[0m\u001b[0;34m]\u001b[0m \u001b[0;32mor\u001b[0m \u001b[0mwskt_ac\u001b[0m\u001b[0;34m[\u001b[0m\u001b[0mi\u001b[0m\u001b[0;34m-\u001b[0m\u001b[0;36m2\u001b[0m\u001b[0;34m]\u001b[0m\u001b[0;34m>=\u001b[0m\u001b[0mwskt_ac\u001b[0m\u001b[0;34m[\u001b[0m\u001b[0mi\u001b[0m\u001b[0;34m-\u001b[0m\u001b[0;36m1\u001b[0m\u001b[0;34m]\u001b[0m\u001b[0;34m>=\u001b[0m\u001b[0mwskt_ac\u001b[0m\u001b[0;34m[\u001b[0m\u001b[0mi\u001b[0m\u001b[0;34m]\u001b[0m\u001b[0;34m:\u001b[0m\u001b[0;34m\u001b[0m\u001b[0;34m\u001b[0m\u001b[0m\n\u001b[0m\u001b[1;32m     10\u001b[0m         \u001b[0mwskt_Y\u001b[0m\u001b[0;34m[\u001b[0m\u001b[0mi\u001b[0m\u001b[0;34m]\u001b[0m \u001b[0;34m=\u001b[0m \u001b[0mwskt_Y\u001b[0m\u001b[0;34m[\u001b[0m\u001b[0mi\u001b[0m\u001b[0;34m-\u001b[0m\u001b[0;36m1\u001b[0m\u001b[0;34m]\u001b[0m \u001b[0;34m*\u001b[0m \u001b[0mwskt_ac\u001b[0m\u001b[0;34m[\u001b[0m\u001b[0mi\u001b[0m\u001b[0;34m]\u001b[0m \u001b[0;34m/\u001b[0m \u001b[0mwskt_ac\u001b[0m\u001b[0;34m[\u001b[0m\u001b[0mi\u001b[0m\u001b[0;34m-\u001b[0m\u001b[0;36m1\u001b[0m\u001b[0;34m]\u001b[0m\u001b[0;34m\u001b[0m\u001b[0;34m\u001b[0m\u001b[0m\n\u001b[1;32m     11\u001b[0m         \u001b[0mprint\u001b[0m\u001b[0;34m(\u001b[0m\u001b[0;34m'Yt[%d] = %.2f'\u001b[0m \u001b[0;34m%\u001b[0m\u001b[0;34m(\u001b[0m\u001b[0mi\u001b[0m\u001b[0;34m,\u001b[0m \u001b[0mwskt_Y\u001b[0m\u001b[0;34m[\u001b[0m\u001b[0mi\u001b[0m\u001b[0;34m]\u001b[0m\u001b[0;34m)\u001b[0m\u001b[0;34m)\u001b[0m\u001b[0;34m\u001b[0m\u001b[0;34m\u001b[0m\u001b[0m\n",
            "\u001b[0;32m/usr/local/lib/python3.6/dist-packages/pandas/core/series.py\u001b[0m in \u001b[0;36m__getitem__\u001b[0;34m(self, key)\u001b[0m\n\u001b[1;32m   1069\u001b[0m         \u001b[0mkey\u001b[0m \u001b[0;34m=\u001b[0m \u001b[0mcom\u001b[0m\u001b[0;34m.\u001b[0m\u001b[0mapply_if_callable\u001b[0m\u001b[0;34m(\u001b[0m\u001b[0mkey\u001b[0m\u001b[0;34m,\u001b[0m \u001b[0mself\u001b[0m\u001b[0;34m)\u001b[0m\u001b[0;34m\u001b[0m\u001b[0;34m\u001b[0m\u001b[0m\n\u001b[1;32m   1070\u001b[0m         \u001b[0;32mtry\u001b[0m\u001b[0;34m:\u001b[0m\u001b[0;34m\u001b[0m\u001b[0;34m\u001b[0m\u001b[0m\n\u001b[0;32m-> 1071\u001b[0;31m             \u001b[0mresult\u001b[0m \u001b[0;34m=\u001b[0m \u001b[0mself\u001b[0m\u001b[0;34m.\u001b[0m\u001b[0mindex\u001b[0m\u001b[0;34m.\u001b[0m\u001b[0mget_value\u001b[0m\u001b[0;34m(\u001b[0m\u001b[0mself\u001b[0m\u001b[0;34m,\u001b[0m \u001b[0mkey\u001b[0m\u001b[0;34m)\u001b[0m\u001b[0;34m\u001b[0m\u001b[0;34m\u001b[0m\u001b[0m\n\u001b[0m\u001b[1;32m   1072\u001b[0m \u001b[0;34m\u001b[0m\u001b[0m\n\u001b[1;32m   1073\u001b[0m             \u001b[0;32mif\u001b[0m \u001b[0;32mnot\u001b[0m \u001b[0mis_scalar\u001b[0m\u001b[0;34m(\u001b[0m\u001b[0mresult\u001b[0m\u001b[0;34m)\u001b[0m\u001b[0;34m:\u001b[0m\u001b[0;34m\u001b[0m\u001b[0;34m\u001b[0m\u001b[0m\n",
            "\u001b[0;32m/usr/local/lib/python3.6/dist-packages/pandas/core/indexes/base.py\u001b[0m in \u001b[0;36mget_value\u001b[0;34m(self, series, key)\u001b[0m\n\u001b[1;32m   4728\u001b[0m         \u001b[0mk\u001b[0m \u001b[0;34m=\u001b[0m \u001b[0mself\u001b[0m\u001b[0;34m.\u001b[0m\u001b[0m_convert_scalar_indexer\u001b[0m\u001b[0;34m(\u001b[0m\u001b[0mk\u001b[0m\u001b[0;34m,\u001b[0m \u001b[0mkind\u001b[0m\u001b[0;34m=\u001b[0m\u001b[0;34m\"getitem\"\u001b[0m\u001b[0;34m)\u001b[0m\u001b[0;34m\u001b[0m\u001b[0;34m\u001b[0m\u001b[0m\n\u001b[1;32m   4729\u001b[0m         \u001b[0;32mtry\u001b[0m\u001b[0;34m:\u001b[0m\u001b[0;34m\u001b[0m\u001b[0;34m\u001b[0m\u001b[0m\n\u001b[0;32m-> 4730\u001b[0;31m             \u001b[0;32mreturn\u001b[0m \u001b[0mself\u001b[0m\u001b[0;34m.\u001b[0m\u001b[0m_engine\u001b[0m\u001b[0;34m.\u001b[0m\u001b[0mget_value\u001b[0m\u001b[0;34m(\u001b[0m\u001b[0ms\u001b[0m\u001b[0;34m,\u001b[0m \u001b[0mk\u001b[0m\u001b[0;34m,\u001b[0m \u001b[0mtz\u001b[0m\u001b[0;34m=\u001b[0m\u001b[0mgetattr\u001b[0m\u001b[0;34m(\u001b[0m\u001b[0mseries\u001b[0m\u001b[0;34m.\u001b[0m\u001b[0mdtype\u001b[0m\u001b[0;34m,\u001b[0m \u001b[0;34m\"tz\"\u001b[0m\u001b[0;34m,\u001b[0m \u001b[0;32mNone\u001b[0m\u001b[0;34m)\u001b[0m\u001b[0;34m)\u001b[0m\u001b[0;34m\u001b[0m\u001b[0;34m\u001b[0m\u001b[0m\n\u001b[0m\u001b[1;32m   4731\u001b[0m         \u001b[0;32mexcept\u001b[0m \u001b[0mKeyError\u001b[0m \u001b[0;32mas\u001b[0m \u001b[0me1\u001b[0m\u001b[0;34m:\u001b[0m\u001b[0;34m\u001b[0m\u001b[0;34m\u001b[0m\u001b[0m\n\u001b[1;32m   4732\u001b[0m             \u001b[0;32mif\u001b[0m \u001b[0mlen\u001b[0m\u001b[0;34m(\u001b[0m\u001b[0mself\u001b[0m\u001b[0;34m)\u001b[0m \u001b[0;34m>\u001b[0m \u001b[0;36m0\u001b[0m \u001b[0;32mand\u001b[0m \u001b[0;34m(\u001b[0m\u001b[0mself\u001b[0m\u001b[0;34m.\u001b[0m\u001b[0mholds_integer\u001b[0m\u001b[0;34m(\u001b[0m\u001b[0;34m)\u001b[0m \u001b[0;32mor\u001b[0m \u001b[0mself\u001b[0m\u001b[0;34m.\u001b[0m\u001b[0mis_boolean\u001b[0m\u001b[0;34m(\u001b[0m\u001b[0;34m)\u001b[0m\u001b[0;34m)\u001b[0m\u001b[0;34m:\u001b[0m\u001b[0;34m\u001b[0m\u001b[0;34m\u001b[0m\u001b[0m\n",
            "\u001b[0;32mpandas/_libs/index.pyx\u001b[0m in \u001b[0;36mpandas._libs.index.IndexEngine.get_value\u001b[0;34m()\u001b[0m\n",
            "\u001b[0;32mpandas/_libs/index.pyx\u001b[0m in \u001b[0;36mpandas._libs.index.IndexEngine.get_value\u001b[0;34m()\u001b[0m\n",
            "\u001b[0;32mpandas/_libs/index.pyx\u001b[0m in \u001b[0;36mpandas._libs.index.IndexEngine.get_loc\u001b[0;34m()\u001b[0m\n",
            "\u001b[0;32mpandas/_libs/hashtable_class_helper.pxi\u001b[0m in \u001b[0;36mpandas._libs.hashtable.Int64HashTable.get_item\u001b[0;34m()\u001b[0m\n",
            "\u001b[0;32mpandas/_libs/hashtable_class_helper.pxi\u001b[0m in \u001b[0;36mpandas._libs.hashtable.Int64HashTable.get_item\u001b[0;34m()\u001b[0m\n",
            "\u001b[0;31mKeyError\u001b[0m: 324"
          ]
        }
      ]
    },
    {
      "cell_type": "markdown",
      "metadata": {
        "id": "4EAV3hQbKUwF",
        "colab_type": "text"
      },
      "source": [
        "UNVR"
      ]
    },
    {
      "cell_type": "code",
      "metadata": {
        "id": "T88NpKqDLvcL",
        "colab_type": "code",
        "colab": {
          "base_uri": "https://localhost:8080/",
          "height": 34
        },
        "outputId": "981806bb-ca9d-42e2-94c4-f00b36ad7675"
      },
      "source": [
        "print(len(unvr))"
      ],
      "execution_count": 62,
      "outputs": [
        {
          "output_type": "stream",
          "text": [
            "484\n"
          ],
          "name": "stdout"
        }
      ]
    },
    {
      "cell_type": "code",
      "metadata": {
        "id": "FDLjHWKwKWnl",
        "colab_type": "code",
        "colab": {
          "base_uri": "https://localhost:8080/",
          "height": 1000
        },
        "outputId": "3c897974-2db3-4633-dcae-257d030cc2da"
      },
      "source": [
        "unvr_ac = unvr['Adj Close']\n",
        "unvr_Y = list(range(1,len(unvr)))\n",
        "unvr_Y[0] = ''\n",
        "for i in range(0, len(unvr)):\n",
        "  if i == 1:\n",
        "    unvr_Y[i] = unvr_ac[i]/unvr_ac[i-1]\n",
        "    print('Yt[%d] = %.2f' % (i, unvr_Y[i]))\n",
        "  elif i>1:  \n",
        "    if unvr_ac[i-2]<=unvr_ac[i-1]<=unvr_ac[i] or unvr_ac[i-2]>=unvr_ac[i-1]>=unvr_ac[i]:\n",
        "        unvr_Y[i] = unvr_Y[i-1] * unvr_ac[i] / unvr_ac[i-1]\n",
        "        print('Yt[%d] = %.2f' %(i, unvr_Y[i]))\n",
        "    else:\n",
        "        unvr_Y[i] = unvr_ac[i]/unvr_ac[i-1]\n",
        "        print('Yt[%d] = %.2f' %(i, unvr_Y[i]))\n",
        "  else:   \n",
        "    print('Yt[0] is starting point')"
      ],
      "execution_count": 59,
      "outputs": [
        {
          "output_type": "stream",
          "text": [
            "Yt[0] is starting point\n",
            "Yt[1] = 0.99\n",
            "Yt[2] = 1.02\n",
            "Yt[3] = 1.04\n",
            "Yt[4] = 0.98\n",
            "Yt[5] = 1.01\n",
            "Yt[6] = 1.01\n",
            "Yt[7] = 1.01\n",
            "Yt[8] = 1.02\n",
            "Yt[9] = 1.00\n",
            "Yt[10] = 1.01\n",
            "Yt[11] = 0.99\n",
            "Yt[12] = 0.98\n",
            "Yt[13] = 0.98\n",
            "Yt[14] = 1.01\n",
            "Yt[15] = 1.02\n",
            "Yt[16] = 1.02\n",
            "Yt[17] = 0.98\n",
            "Yt[18] = 0.98\n",
            "Yt[19] = 1.00\n",
            "Yt[20] = 0.99\n",
            "Yt[21] = 1.00\n",
            "Yt[22] = 1.01\n",
            "Yt[23] = 1.00\n",
            "Yt[24] = 0.98\n",
            "Yt[25] = 1.03\n",
            "Yt[26] = 1.04\n",
            "Yt[27] = 0.98\n",
            "Yt[28] = 0.98\n",
            "Yt[29] = 0.99\n",
            "Yt[30] = 1.00\n",
            "Yt[31] = 1.01\n",
            "Yt[32] = 1.02\n",
            "Yt[33] = 1.00\n",
            "Yt[34] = 1.00\n",
            "Yt[35] = 1.02\n",
            "Yt[36] = 1.03\n",
            "Yt[37] = 1.00\n",
            "Yt[38] = 0.96\n",
            "Yt[39] = 1.03\n",
            "Yt[40] = 0.99\n",
            "Yt[41] = 1.00\n",
            "Yt[42] = 1.03\n",
            "Yt[43] = 1.04\n",
            "Yt[44] = 1.05\n",
            "Yt[45] = 1.10\n",
            "Yt[46] = 1.00\n",
            "Yt[47] = 1.01\n",
            "Yt[48] = 0.98\n",
            "Yt[49] = 1.00\n",
            "Yt[50] = 1.00\n",
            "Yt[51] = 1.00\n",
            "Yt[52] = 1.01\n",
            "Yt[53] = 1.02\n",
            "Yt[54] = 1.03\n",
            "Yt[55] = 1.03\n",
            "Yt[56] = 0.97\n",
            "Yt[57] = 1.04\n",
            "Yt[58] = 0.99\n",
            "Yt[59] = 0.97\n",
            "Yt[60] = 1.00\n",
            "Yt[61] = 1.00\n",
            "Yt[62] = 1.02\n",
            "Yt[63] = 0.97\n",
            "Yt[64] = 1.02\n",
            "Yt[65] = 0.99\n",
            "Yt[66] = 0.98\n",
            "Yt[67] = 1.02\n",
            "Yt[68] = 1.00\n",
            "Yt[69] = 1.01\n",
            "Yt[70] = 1.01\n",
            "Yt[71] = 0.99\n",
            "Yt[72] = 1.01\n",
            "Yt[73] = 0.99\n",
            "Yt[74] = 1.00\n",
            "Yt[75] = 1.00\n",
            "Yt[76] = 1.05\n",
            "Yt[77] = 0.99\n",
            "Yt[78] = 1.01\n",
            "Yt[79] = 1.03\n",
            "Yt[80] = 1.06\n",
            "Yt[81] = 1.06\n",
            "Yt[82] = 0.99\n",
            "Yt[83] = 0.98\n",
            "Yt[84] = 0.94\n",
            "Yt[85] = 1.02\n",
            "Yt[86] = 1.02\n",
            "Yt[87] = 1.03\n",
            "Yt[88] = 1.04\n",
            "Yt[89] = 1.00\n",
            "Yt[90] = 0.99\n",
            "Yt[91] = 1.02\n",
            "Yt[92] = 1.03\n",
            "Yt[93] = 1.03\n",
            "Yt[94] = 1.01\n",
            "Yt[95] = 1.00\n",
            "Yt[96] = 1.01\n",
            "Yt[97] = 1.02\n",
            "Yt[98] = 0.97\n",
            "Yt[99] = 1.02\n",
            "Yt[100] = 1.02\n",
            "Yt[101] = 1.03\n",
            "Yt[102] = 0.97\n",
            "Yt[103] = 0.97\n",
            "Yt[104] = 0.96\n",
            "Yt[105] = 1.00\n",
            "Yt[106] = 1.01\n",
            "Yt[107] = 1.05\n",
            "Yt[108] = 1.06\n",
            "Yt[109] = 1.10\n",
            "Yt[110] = 1.13\n",
            "Yt[111] = 0.98\n",
            "Yt[112] = 1.06\n",
            "Yt[113] = 0.95\n",
            "Yt[114] = 1.01\n",
            "Yt[115] = 1.02\n",
            "Yt[116] = 1.05\n",
            "Yt[117] = 1.07\n",
            "Yt[118] = 0.96\n",
            "Yt[119] = 1.01\n",
            "Yt[120] = 0.99\n",
            "Yt[121] = 0.97\n",
            "Yt[122] = 0.96\n",
            "Yt[123] = 1.03\n",
            "Yt[124] = 1.04\n",
            "Yt[125] = 1.04\n",
            "Yt[126] = 1.02\n",
            "Yt[127] = 1.01\n",
            "Yt[128] = 1.02\n",
            "Yt[129] = 1.04\n",
            "Yt[130] = 1.07\n",
            "Yt[131] = 0.97\n",
            "Yt[132] = 1.01\n",
            "Yt[133] = 0.96\n",
            "Yt[134] = 0.96\n",
            "Yt[135] = 1.01\n",
            "Yt[136] = 0.98\n",
            "Yt[137] = 0.97\n",
            "Yt[138] = 0.95\n",
            "Yt[139] = 0.91\n",
            "Yt[140] = 1.04\n",
            "Yt[141] = 0.98\n",
            "Yt[142] = 1.01\n",
            "Yt[143] = 0.98\n",
            "Yt[144] = 1.00\n",
            "Yt[145] = 1.03\n",
            "Yt[146] = 1.04\n",
            "Yt[147] = 1.00\n",
            "Yt[148] = 1.00\n",
            "Yt[149] = 0.97\n",
            "Yt[150] = 1.02\n",
            "Yt[151] = 0.98\n",
            "Yt[152] = 0.97\n",
            "Yt[153] = 0.96\n",
            "Yt[154] = 0.95\n",
            "Yt[155] = 1.01\n",
            "Yt[156] = 1.02\n",
            "Yt[157] = 1.05\n",
            "Yt[158] = 0.98\n",
            "Yt[159] = 0.97\n",
            "Yt[160] = 1.01\n",
            "Yt[161] = 0.99\n",
            "Yt[162] = 1.00\n",
            "Yt[163] = 1.01\n",
            "Yt[164] = 0.99\n",
            "Yt[165] = 1.01\n",
            "Yt[166] = 1.00\n",
            "Yt[167] = 1.00\n",
            "Yt[168] = 1.00\n",
            "Yt[169] = 0.99\n",
            "Yt[170] = 1.01\n",
            "Yt[171] = 0.99\n",
            "Yt[172] = 0.96\n",
            "Yt[173] = 1.04\n",
            "Yt[174] = 0.97\n",
            "Yt[175] = 0.96\n",
            "Yt[176] = 1.02\n",
            "Yt[177] = 0.98\n",
            "Yt[178] = 1.01\n",
            "Yt[179] = 0.99\n",
            "Yt[180] = 0.96\n",
            "Yt[181] = 0.92\n",
            "Yt[182] = 1.04\n",
            "Yt[183] = 0.99\n",
            "Yt[184] = 0.99\n",
            "Yt[185] = 0.97\n",
            "Yt[186] = 0.96\n",
            "Yt[187] = 0.96\n",
            "Yt[188] = 0.92\n",
            "Yt[189] = 1.09\n",
            "Yt[190] = 0.98\n",
            "Yt[191] = 1.07\n",
            "Yt[192] = 0.98\n",
            "Yt[193] = 1.05\n",
            "Yt[194] = 0.98\n",
            "Yt[195] = 0.97\n",
            "Yt[196] = 0.97\n",
            "Yt[197] = 1.01\n",
            "Yt[198] = 0.98\n",
            "Yt[199] = 0.97\n",
            "Yt[200] = 1.01\n",
            "Yt[201] = 0.99\n",
            "Yt[202] = 1.03\n",
            "Yt[203] = 1.07\n",
            "Yt[204] = 0.97\n",
            "Yt[205] = 0.95\n",
            "Yt[206] = 1.02\n",
            "Yt[207] = 1.02\n",
            "Yt[208] = 1.01\n",
            "Yt[209] = 0.99\n",
            "Yt[210] = 0.96\n",
            "Yt[211] = 0.94\n",
            "Yt[212] = 0.94\n",
            "Yt[213] = 1.05\n",
            "Yt[214] = 1.05\n",
            "Yt[215] = 1.07\n",
            "Yt[216] = 0.97\n",
            "Yt[217] = 1.03\n",
            "Yt[218] = 1.04\n",
            "Yt[219] = 0.99\n",
            "Yt[220] = 1.01\n",
            "Yt[221] = 0.99\n",
            "Yt[222] = 1.01\n",
            "Yt[223] = 0.98\n",
            "Yt[224] = 0.96\n",
            "Yt[225] = 0.95\n",
            "Yt[226] = 1.02\n",
            "Yt[227] = 1.03\n",
            "Yt[228] = 1.00\n",
            "Yt[229] = 0.99\n",
            "Yt[230] = 1.00\n",
            "Yt[231] = 1.01\n",
            "Yt[232] = 1.01\n",
            "Yt[233] = 1.00\n",
            "Yt[234] = 0.97\n",
            "Yt[235] = 0.97\n",
            "Yt[236] = 0.96\n",
            "Yt[237] = 0.96\n",
            "Yt[238] = 1.01\n",
            "Yt[239] = 0.99\n",
            "Yt[240] = 1.01\n",
            "Yt[241] = 0.99\n",
            "Yt[242] = 0.96\n",
            "Yt[243] = 0.95\n",
            "Yt[244] = 0.94\n",
            "Yt[245] = 1.05\n",
            "Yt[246] = 1.05\n",
            "Yt[247] = 1.05\n",
            "Yt[248] = 1.06\n",
            "Yt[249] = 1.06\n",
            "Yt[250] = 1.08\n",
            "Yt[251] = 1.09\n",
            "Yt[252] = 0.98\n",
            "Yt[253] = 1.02\n",
            "Yt[254] = 0.98\n",
            "Yt[255] = 1.04\n",
            "Yt[256] = 0.95\n",
            "Yt[257] = 1.02\n",
            "Yt[258] = 0.99\n",
            "Yt[259] = 0.99\n",
            "Yt[260] = 0.98\n",
            "Yt[261] = 0.96\n",
            "Yt[262] = 0.95\n",
            "Yt[263] = 0.95\n",
            "Yt[264] = 0.95\n",
            "Yt[265] = 0.98\n",
            "Yt[266] = 1.01\n",
            "Yt[267] = 1.00\n",
            "Yt[268] = 1.01\n",
            "Yt[269] = 1.05\n",
            "Yt[270] = 0.97\n",
            "Yt[271] = 0.96\n",
            "Yt[272] = 1.04\n",
            "Yt[273] = 0.99\n",
            "Yt[274] = 1.01\n",
            "Yt[275] = 1.02\n",
            "Yt[276] = 0.99\n",
            "Yt[277] = 0.97\n",
            "Yt[278] = 0.96\n",
            "Yt[279] = 1.05\n",
            "Yt[280] = 0.96\n",
            "Yt[281] = 1.00\n",
            "Yt[282] = 0.98\n",
            "Yt[283] = 1.02\n",
            "Yt[284] = 1.02\n",
            "Yt[285] = 1.01\n",
            "Yt[286] = 1.01\n",
            "Yt[287] = 0.99\n",
            "Yt[288] = 1.01\n",
            "Yt[289] = 0.99\n",
            "Yt[290] = 1.01\n",
            "Yt[291] = 0.99\n",
            "Yt[292] = 1.00\n",
            "Yt[293] = 1.01\n",
            "Yt[294] = 1.05\n",
            "Yt[295] = 1.00\n",
            "Yt[296] = 0.98\n",
            "Yt[297] = 1.00\n",
            "Yt[298] = 1.02\n",
            "Yt[299] = 1.05\n",
            "Yt[300] = 1.09\n",
            "Yt[301] = 1.11\n",
            "Yt[302] = 1.11\n",
            "Yt[303] = 1.11\n",
            "Yt[304] = 1.13\n",
            "Yt[305] = 0.99\n",
            "Yt[306] = 1.01\n",
            "Yt[307] = 0.99\n",
            "Yt[308] = 1.01\n",
            "Yt[309] = 1.02\n",
            "Yt[310] = 1.04\n",
            "Yt[311] = 1.06\n",
            "Yt[312] = 0.98\n",
            "Yt[313] = 0.97\n",
            "Yt[314] = 1.02\n",
            "Yt[315] = 1.05\n",
            "Yt[316] = 1.06\n",
            "Yt[317] = 1.08\n",
            "Yt[318] = 1.14\n",
            "Yt[319] = 0.97\n",
            "Yt[320] = 0.95\n",
            "Yt[321] = 0.92\n",
            "Yt[322] = 0.91\n",
            "Yt[323] = 0.89\n"
          ],
          "name": "stdout"
        },
        {
          "output_type": "error",
          "ename": "KeyError",
          "evalue": "ignored",
          "traceback": [
            "\u001b[0;31m---------------------------------------------------------------------------\u001b[0m",
            "\u001b[0;31mKeyError\u001b[0m                                  Traceback (most recent call last)",
            "\u001b[0;32m<ipython-input-59-d75f8d109212>\u001b[0m in \u001b[0;36m<module>\u001b[0;34m()\u001b[0m\n\u001b[1;32m      7\u001b[0m     \u001b[0mprint\u001b[0m\u001b[0;34m(\u001b[0m\u001b[0;34m'Yt[%d] = %.2f'\u001b[0m \u001b[0;34m%\u001b[0m \u001b[0;34m(\u001b[0m\u001b[0mi\u001b[0m\u001b[0;34m,\u001b[0m \u001b[0munvr_Y\u001b[0m\u001b[0;34m[\u001b[0m\u001b[0mi\u001b[0m\u001b[0;34m]\u001b[0m\u001b[0;34m)\u001b[0m\u001b[0;34m)\u001b[0m\u001b[0;34m\u001b[0m\u001b[0;34m\u001b[0m\u001b[0m\n\u001b[1;32m      8\u001b[0m   \u001b[0;32melif\u001b[0m \u001b[0mi\u001b[0m\u001b[0;34m>\u001b[0m\u001b[0;36m1\u001b[0m\u001b[0;34m:\u001b[0m\u001b[0;34m\u001b[0m\u001b[0;34m\u001b[0m\u001b[0m\n\u001b[0;32m----> 9\u001b[0;31m     \u001b[0;32mif\u001b[0m \u001b[0munvr_ac\u001b[0m\u001b[0;34m[\u001b[0m\u001b[0mi\u001b[0m\u001b[0;34m-\u001b[0m\u001b[0;36m2\u001b[0m\u001b[0;34m]\u001b[0m\u001b[0;34m<=\u001b[0m\u001b[0munvr_ac\u001b[0m\u001b[0;34m[\u001b[0m\u001b[0mi\u001b[0m\u001b[0;34m-\u001b[0m\u001b[0;36m1\u001b[0m\u001b[0;34m]\u001b[0m\u001b[0;34m<=\u001b[0m\u001b[0munvr_ac\u001b[0m\u001b[0;34m[\u001b[0m\u001b[0mi\u001b[0m\u001b[0;34m]\u001b[0m \u001b[0;32mor\u001b[0m \u001b[0munvr_ac\u001b[0m\u001b[0;34m[\u001b[0m\u001b[0mi\u001b[0m\u001b[0;34m-\u001b[0m\u001b[0;36m2\u001b[0m\u001b[0;34m]\u001b[0m\u001b[0;34m>=\u001b[0m\u001b[0munvr_ac\u001b[0m\u001b[0;34m[\u001b[0m\u001b[0mi\u001b[0m\u001b[0;34m-\u001b[0m\u001b[0;36m1\u001b[0m\u001b[0;34m]\u001b[0m\u001b[0;34m>=\u001b[0m\u001b[0munvr_ac\u001b[0m\u001b[0;34m[\u001b[0m\u001b[0mi\u001b[0m\u001b[0;34m]\u001b[0m\u001b[0;34m:\u001b[0m\u001b[0;34m\u001b[0m\u001b[0;34m\u001b[0m\u001b[0m\n\u001b[0m\u001b[1;32m     10\u001b[0m         \u001b[0munvr_Y\u001b[0m\u001b[0;34m[\u001b[0m\u001b[0mi\u001b[0m\u001b[0;34m]\u001b[0m \u001b[0;34m=\u001b[0m \u001b[0munvr_Y\u001b[0m\u001b[0;34m[\u001b[0m\u001b[0mi\u001b[0m\u001b[0;34m-\u001b[0m\u001b[0;36m1\u001b[0m\u001b[0;34m]\u001b[0m \u001b[0;34m*\u001b[0m \u001b[0munvr_ac\u001b[0m\u001b[0;34m[\u001b[0m\u001b[0mi\u001b[0m\u001b[0;34m]\u001b[0m \u001b[0;34m/\u001b[0m \u001b[0munvr_ac\u001b[0m\u001b[0;34m[\u001b[0m\u001b[0mi\u001b[0m\u001b[0;34m-\u001b[0m\u001b[0;36m1\u001b[0m\u001b[0;34m]\u001b[0m\u001b[0;34m\u001b[0m\u001b[0;34m\u001b[0m\u001b[0m\n\u001b[1;32m     11\u001b[0m         \u001b[0mprint\u001b[0m\u001b[0;34m(\u001b[0m\u001b[0;34m'Yt[%d] = %.2f'\u001b[0m \u001b[0;34m%\u001b[0m\u001b[0;34m(\u001b[0m\u001b[0mi\u001b[0m\u001b[0;34m,\u001b[0m \u001b[0munvr_Y\u001b[0m\u001b[0;34m[\u001b[0m\u001b[0mi\u001b[0m\u001b[0;34m]\u001b[0m\u001b[0;34m)\u001b[0m\u001b[0;34m)\u001b[0m\u001b[0;34m\u001b[0m\u001b[0;34m\u001b[0m\u001b[0m\n",
            "\u001b[0;32m/usr/local/lib/python3.6/dist-packages/pandas/core/series.py\u001b[0m in \u001b[0;36m__getitem__\u001b[0;34m(self, key)\u001b[0m\n\u001b[1;32m   1069\u001b[0m         \u001b[0mkey\u001b[0m \u001b[0;34m=\u001b[0m \u001b[0mcom\u001b[0m\u001b[0;34m.\u001b[0m\u001b[0mapply_if_callable\u001b[0m\u001b[0;34m(\u001b[0m\u001b[0mkey\u001b[0m\u001b[0;34m,\u001b[0m \u001b[0mself\u001b[0m\u001b[0;34m)\u001b[0m\u001b[0;34m\u001b[0m\u001b[0;34m\u001b[0m\u001b[0m\n\u001b[1;32m   1070\u001b[0m         \u001b[0;32mtry\u001b[0m\u001b[0;34m:\u001b[0m\u001b[0;34m\u001b[0m\u001b[0;34m\u001b[0m\u001b[0m\n\u001b[0;32m-> 1071\u001b[0;31m             \u001b[0mresult\u001b[0m \u001b[0;34m=\u001b[0m \u001b[0mself\u001b[0m\u001b[0;34m.\u001b[0m\u001b[0mindex\u001b[0m\u001b[0;34m.\u001b[0m\u001b[0mget_value\u001b[0m\u001b[0;34m(\u001b[0m\u001b[0mself\u001b[0m\u001b[0;34m,\u001b[0m \u001b[0mkey\u001b[0m\u001b[0;34m)\u001b[0m\u001b[0;34m\u001b[0m\u001b[0;34m\u001b[0m\u001b[0m\n\u001b[0m\u001b[1;32m   1072\u001b[0m \u001b[0;34m\u001b[0m\u001b[0m\n\u001b[1;32m   1073\u001b[0m             \u001b[0;32mif\u001b[0m \u001b[0;32mnot\u001b[0m \u001b[0mis_scalar\u001b[0m\u001b[0;34m(\u001b[0m\u001b[0mresult\u001b[0m\u001b[0;34m)\u001b[0m\u001b[0;34m:\u001b[0m\u001b[0;34m\u001b[0m\u001b[0;34m\u001b[0m\u001b[0m\n",
            "\u001b[0;32m/usr/local/lib/python3.6/dist-packages/pandas/core/indexes/base.py\u001b[0m in \u001b[0;36mget_value\u001b[0;34m(self, series, key)\u001b[0m\n\u001b[1;32m   4728\u001b[0m         \u001b[0mk\u001b[0m \u001b[0;34m=\u001b[0m \u001b[0mself\u001b[0m\u001b[0;34m.\u001b[0m\u001b[0m_convert_scalar_indexer\u001b[0m\u001b[0;34m(\u001b[0m\u001b[0mk\u001b[0m\u001b[0;34m,\u001b[0m \u001b[0mkind\u001b[0m\u001b[0;34m=\u001b[0m\u001b[0;34m\"getitem\"\u001b[0m\u001b[0;34m)\u001b[0m\u001b[0;34m\u001b[0m\u001b[0;34m\u001b[0m\u001b[0m\n\u001b[1;32m   4729\u001b[0m         \u001b[0;32mtry\u001b[0m\u001b[0;34m:\u001b[0m\u001b[0;34m\u001b[0m\u001b[0;34m\u001b[0m\u001b[0m\n\u001b[0;32m-> 4730\u001b[0;31m             \u001b[0;32mreturn\u001b[0m \u001b[0mself\u001b[0m\u001b[0;34m.\u001b[0m\u001b[0m_engine\u001b[0m\u001b[0;34m.\u001b[0m\u001b[0mget_value\u001b[0m\u001b[0;34m(\u001b[0m\u001b[0ms\u001b[0m\u001b[0;34m,\u001b[0m \u001b[0mk\u001b[0m\u001b[0;34m,\u001b[0m \u001b[0mtz\u001b[0m\u001b[0;34m=\u001b[0m\u001b[0mgetattr\u001b[0m\u001b[0;34m(\u001b[0m\u001b[0mseries\u001b[0m\u001b[0;34m.\u001b[0m\u001b[0mdtype\u001b[0m\u001b[0;34m,\u001b[0m \u001b[0;34m\"tz\"\u001b[0m\u001b[0;34m,\u001b[0m \u001b[0;32mNone\u001b[0m\u001b[0;34m)\u001b[0m\u001b[0;34m)\u001b[0m\u001b[0;34m\u001b[0m\u001b[0;34m\u001b[0m\u001b[0m\n\u001b[0m\u001b[1;32m   4731\u001b[0m         \u001b[0;32mexcept\u001b[0m \u001b[0mKeyError\u001b[0m \u001b[0;32mas\u001b[0m \u001b[0me1\u001b[0m\u001b[0;34m:\u001b[0m\u001b[0;34m\u001b[0m\u001b[0;34m\u001b[0m\u001b[0m\n\u001b[1;32m   4732\u001b[0m             \u001b[0;32mif\u001b[0m \u001b[0mlen\u001b[0m\u001b[0;34m(\u001b[0m\u001b[0mself\u001b[0m\u001b[0;34m)\u001b[0m \u001b[0;34m>\u001b[0m \u001b[0;36m0\u001b[0m \u001b[0;32mand\u001b[0m \u001b[0;34m(\u001b[0m\u001b[0mself\u001b[0m\u001b[0;34m.\u001b[0m\u001b[0mholds_integer\u001b[0m\u001b[0;34m(\u001b[0m\u001b[0;34m)\u001b[0m \u001b[0;32mor\u001b[0m \u001b[0mself\u001b[0m\u001b[0;34m.\u001b[0m\u001b[0mis_boolean\u001b[0m\u001b[0;34m(\u001b[0m\u001b[0;34m)\u001b[0m\u001b[0;34m)\u001b[0m\u001b[0;34m:\u001b[0m\u001b[0;34m\u001b[0m\u001b[0;34m\u001b[0m\u001b[0m\n",
            "\u001b[0;32mpandas/_libs/index.pyx\u001b[0m in \u001b[0;36mpandas._libs.index.IndexEngine.get_value\u001b[0;34m()\u001b[0m\n",
            "\u001b[0;32mpandas/_libs/index.pyx\u001b[0m in \u001b[0;36mpandas._libs.index.IndexEngine.get_value\u001b[0;34m()\u001b[0m\n",
            "\u001b[0;32mpandas/_libs/index.pyx\u001b[0m in \u001b[0;36mpandas._libs.index.IndexEngine.get_loc\u001b[0;34m()\u001b[0m\n",
            "\u001b[0;32mpandas/_libs/hashtable_class_helper.pxi\u001b[0m in \u001b[0;36mpandas._libs.hashtable.Int64HashTable.get_item\u001b[0;34m()\u001b[0m\n",
            "\u001b[0;32mpandas/_libs/hashtable_class_helper.pxi\u001b[0m in \u001b[0;36mpandas._libs.hashtable.Int64HashTable.get_item\u001b[0;34m()\u001b[0m\n",
            "\u001b[0;31mKeyError\u001b[0m: 324"
          ]
        }
      ]
    },
    {
      "cell_type": "markdown",
      "metadata": {
        "id": "SG1Hrw73AOaK",
        "colab_type": "text"
      },
      "source": [
        "Plot\n"
      ]
    },
    {
      "cell_type": "code",
      "metadata": {
        "id": "aoHFUkBj-HWf",
        "colab_type": "code",
        "colab": {
          "base_uri": "https://localhost:8080/",
          "height": 361
        },
        "outputId": "f0361449-15ac-44f7-9eb5-b82d2a92e9da"
      },
      "source": [
        "# Make traces for graph\n",
        "trace1 = go.Scatter(x=wskt['Date'], y=wskt['Adj Close'],\n",
        "                    marker=dict(color='#0099ff'),\n",
        "                    name='WSKT',\n",
        "                    xaxis='x2', yaxis='y2')\n",
        "trace2 = go.Scatter(x=unvr['Date'], y=unvr['Adj Close'],\n",
        "                    marker=dict(color='#404040'),\n",
        "                    name='Unilever',\n",
        "                    xaxis='x2', yaxis='y2')\n",
        "trace3 = go.Scatter(x=inco['Date'], y=inco['Adj Close'],\n",
        "                    marker=dict(color='#404040'),\n",
        "                    name='INCO',\n",
        "                    xaxis='x2', yaxis='y2')\n",
        "py.iplot(trace1)"
      ],
      "execution_count": 28,
      "outputs": [
        {
          "output_type": "error",
          "ename": "PlotlyError",
          "evalue": "ignored",
          "traceback": [
            "\u001b[0;31m---------------------------------------------------------------------------\u001b[0m",
            "\u001b[0;31mPlotlyError\u001b[0m                               Traceback (most recent call last)",
            "\u001b[0;32m<ipython-input-28-9403d28ec457>\u001b[0m in \u001b[0;36m<module>\u001b[0;34m()\u001b[0m\n\u001b[1;32m     11\u001b[0m                     \u001b[0mname\u001b[0m\u001b[0;34m=\u001b[0m\u001b[0;34m'INCO'\u001b[0m\u001b[0;34m,\u001b[0m\u001b[0;34m\u001b[0m\u001b[0;34m\u001b[0m\u001b[0m\n\u001b[1;32m     12\u001b[0m                     xaxis='x2', yaxis='y2')\n\u001b[0;32m---> 13\u001b[0;31m \u001b[0mpy\u001b[0m\u001b[0;34m.\u001b[0m\u001b[0miplot\u001b[0m\u001b[0;34m(\u001b[0m\u001b[0mtrace1\u001b[0m\u001b[0;34m)\u001b[0m\u001b[0;34m\u001b[0m\u001b[0;34m\u001b[0m\u001b[0m\n\u001b[0m",
            "\u001b[0;32m/usr/local/lib/python3.6/dist-packages/chart_studio/plotly/plotly.py\u001b[0m in \u001b[0;36miplot\u001b[0;34m(figure_or_data, **plot_options)\u001b[0m\n\u001b[1;32m    157\u001b[0m     \u001b[0;32mif\u001b[0m \u001b[0;34m'auto_open'\u001b[0m \u001b[0;32mnot\u001b[0m \u001b[0;32min\u001b[0m \u001b[0mplot_options\u001b[0m\u001b[0;34m:\u001b[0m\u001b[0;34m\u001b[0m\u001b[0;34m\u001b[0m\u001b[0m\n\u001b[1;32m    158\u001b[0m         \u001b[0mplot_options\u001b[0m\u001b[0;34m[\u001b[0m\u001b[0;34m'auto_open'\u001b[0m\u001b[0;34m]\u001b[0m \u001b[0;34m=\u001b[0m \u001b[0;32mFalse\u001b[0m\u001b[0;34m\u001b[0m\u001b[0;34m\u001b[0m\u001b[0m\n\u001b[0;32m--> 159\u001b[0;31m     \u001b[0murl\u001b[0m \u001b[0;34m=\u001b[0m \u001b[0mplot\u001b[0m\u001b[0;34m(\u001b[0m\u001b[0mfigure_or_data\u001b[0m\u001b[0;34m,\u001b[0m \u001b[0;34m**\u001b[0m\u001b[0mplot_options\u001b[0m\u001b[0;34m)\u001b[0m\u001b[0;34m\u001b[0m\u001b[0;34m\u001b[0m\u001b[0m\n\u001b[0m\u001b[1;32m    160\u001b[0m \u001b[0;34m\u001b[0m\u001b[0m\n\u001b[1;32m    161\u001b[0m     \u001b[0;32mif\u001b[0m \u001b[0misinstance\u001b[0m\u001b[0;34m(\u001b[0m\u001b[0mfigure_or_data\u001b[0m\u001b[0;34m,\u001b[0m \u001b[0mdict\u001b[0m\u001b[0;34m)\u001b[0m\u001b[0;34m:\u001b[0m\u001b[0;34m\u001b[0m\u001b[0;34m\u001b[0m\u001b[0m\n",
            "\u001b[0;32m/usr/local/lib/python3.6/dist-packages/chart_studio/plotly/plotly.py\u001b[0m in \u001b[0;36mplot\u001b[0;34m(figure_or_data, validate, **plot_options)\u001b[0m\n\u001b[1;32m    223\u001b[0m     \"\"\"\n\u001b[1;32m    224\u001b[0m     \u001b[0;32mimport\u001b[0m \u001b[0mplotly\u001b[0m\u001b[0;34m.\u001b[0m\u001b[0mtools\u001b[0m\u001b[0;34m\u001b[0m\u001b[0;34m\u001b[0m\u001b[0m\n\u001b[0;32m--> 225\u001b[0;31m     \u001b[0mfigure\u001b[0m \u001b[0;34m=\u001b[0m \u001b[0mplotly\u001b[0m\u001b[0;34m.\u001b[0m\u001b[0mtools\u001b[0m\u001b[0;34m.\u001b[0m\u001b[0mreturn_figure_from_figure_or_data\u001b[0m\u001b[0;34m(\u001b[0m\u001b[0mfigure_or_data\u001b[0m\u001b[0;34m,\u001b[0m \u001b[0mvalidate\u001b[0m\u001b[0;34m)\u001b[0m\u001b[0;34m\u001b[0m\u001b[0;34m\u001b[0m\u001b[0m\n\u001b[0m\u001b[1;32m    226\u001b[0m     \u001b[0;32mfor\u001b[0m \u001b[0mentry\u001b[0m \u001b[0;32min\u001b[0m \u001b[0mfigure\u001b[0m\u001b[0;34m[\u001b[0m\u001b[0;34m'data'\u001b[0m\u001b[0;34m]\u001b[0m\u001b[0;34m:\u001b[0m\u001b[0;34m\u001b[0m\u001b[0;34m\u001b[0m\u001b[0m\n\u001b[1;32m    227\u001b[0m         \u001b[0;32mif\u001b[0m \u001b[0;34m(\u001b[0m\u001b[0;34m'type'\u001b[0m \u001b[0;32min\u001b[0m \u001b[0mentry\u001b[0m\u001b[0;34m)\u001b[0m \u001b[0;32mand\u001b[0m \u001b[0;34m(\u001b[0m\u001b[0mentry\u001b[0m\u001b[0;34m[\u001b[0m\u001b[0;34m'type'\u001b[0m\u001b[0;34m]\u001b[0m \u001b[0;34m==\u001b[0m \u001b[0;34m'scattergl'\u001b[0m\u001b[0;34m)\u001b[0m\u001b[0;34m:\u001b[0m\u001b[0;34m\u001b[0m\u001b[0;34m\u001b[0m\u001b[0m\n",
            "\u001b[0;32m/usr/local/lib/python3.6/dist-packages/plotly/tools.py\u001b[0m in \u001b[0;36mreturn_figure_from_figure_or_data\u001b[0;34m(figure_or_data, validate_figure)\u001b[0m\n\u001b[1;32m   1130\u001b[0m         \u001b[0mvalidated\u001b[0m \u001b[0;34m=\u001b[0m \u001b[0;32mTrue\u001b[0m\u001b[0;34m\u001b[0m\u001b[0;34m\u001b[0m\u001b[0m\n\u001b[1;32m   1131\u001b[0m     \u001b[0;32melse\u001b[0m\u001b[0;34m:\u001b[0m\u001b[0;34m\u001b[0m\u001b[0;34m\u001b[0m\u001b[0m\n\u001b[0;32m-> 1132\u001b[0;31m         raise exceptions.PlotlyError(\"The `figure_or_data` positional \"\n\u001b[0m\u001b[1;32m   1133\u001b[0m                                      \u001b[0;34m\"argument must be \"\u001b[0m\u001b[0;34m\u001b[0m\u001b[0;34m\u001b[0m\u001b[0m\n\u001b[1;32m   1134\u001b[0m                                      \"`dict`-like, `list`-like, or an instance of plotly.graph_objs.Figure\")\n",
            "\u001b[0;31mPlotlyError\u001b[0m: The `figure_or_data` positional argument must be `dict`-like, `list`-like, or an instance of plotly.graph_objs.Figure"
          ]
        }
      ]
    },
    {
      "cell_type": "code",
      "metadata": {
        "id": "VhZrn7XqyV5g",
        "colab_type": "code",
        "colab": {}
      },
      "source": [
        ""
      ],
      "execution_count": 0,
      "outputs": []
    }
  ]
}